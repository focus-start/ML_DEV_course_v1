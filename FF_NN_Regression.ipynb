{
  "nbformat": 4,
  "nbformat_minor": 0,
  "metadata": {
    "colab": {
      "name": "FF_NN_Regression.ipynb",
      "version": "0.3.2",
      "provenance": []
    },
    "kernelspec": {
      "name": "python3",
      "display_name": "Python 3"
    },
    "accelerator": "GPU"
  },
  "cells": [
    {
      "metadata": {
        "id": "k4N0Yx2CvI4E",
        "colab_type": "code",
        "colab": {}
      },
      "cell_type": "code",
      "source": [
        "from fastai import *\n",
        "from fastai.vision import *\n",
        "import pandas as pd"
      ],
      "execution_count": 0,
      "outputs": []
    },
    {
      "metadata": {
        "id": "56K693vtxuvZ",
        "colab_type": "text"
      },
      "cell_type": "markdown",
      "source": [
        "В этот раз поработаем с задачей регрессии. Используем выборку из датасета UMDFaces - http://umdfaces.io/"
      ]
    },
    {
      "metadata": {
        "id": "812qyE_kxT8l",
        "colab_type": "text"
      },
      "cell_type": "markdown",
      "source": [
        "Загрузим архив с фотографиями и аннтоации к ним: "
      ]
    },
    {
      "metadata": {
        "id": "nxvNQIqb47Aj",
        "colab_type": "code",
        "colab": {
          "base_uri": "https://localhost:8080/",
          "height": 87
        },
        "outputId": "b038801a-b965-4ac7-eb21-93b1386c168f"
      },
      "cell_type": "code",
      "source": [
        "!gdown https://drive.google.com/uc?id=1hBif59-_7cNOWIR7QKqqHj2k3G2WYBRB"
      ],
      "execution_count": 48,
      "outputs": [
        {
          "output_type": "stream",
          "text": [
            "Downloading...\n",
            "From: https://drive.google.com/uc?id=1hBif59-_7cNOWIR7QKqqHj2k3G2WYBRB\n",
            "To: /content/umdf.zip\n",
            "1.67GB [00:18, 89.3MB/s]\n"
          ],
          "name": "stdout"
        }
      ]
    },
    {
      "metadata": {
        "id": "dekardUB5yOl",
        "colab_type": "code",
        "colab": {
          "base_uri": "https://localhost:8080/",
          "height": 87
        },
        "outputId": "4186b45f-a317-4760-ccb5-5c50af3b0c55"
      },
      "cell_type": "code",
      "source": [
        "!gdown https://drive.google.com/uc?id=1kmpKxE_AuDUleaq4T4r8hU8Ip0ux5ctV"
      ],
      "execution_count": 24,
      "outputs": [
        {
          "output_type": "stream",
          "text": [
            "Downloading...\n",
            "From: https://drive.google.com/uc?id=1kmpKxE_AuDUleaq4T4r8hU8Ip0ux5ctV\n",
            "To: /content/umdf.csv\n",
            "\r0.00B [00:00, ?B/s]\r4.72MB [00:00, 44.3MB/s]\r7.56MB [00:00, 46.3MB/s]\n"
          ],
          "name": "stdout"
        }
      ]
    },
    {
      "metadata": {
        "id": "0Fxb7mFT-ur0",
        "colab_type": "code",
        "colab": {
          "base_uri": "https://localhost:8080/",
          "height": 87
        },
        "outputId": "22edc40a-0c7d-475e-9002-612d3c614914"
      },
      "cell_type": "code",
      "source": [
        "!gdown https://drive.google.com/uc?id=1L_psbKV5cJc06loyHs_Kqv9dyyacrS2H"
      ],
      "execution_count": 36,
      "outputs": [
        {
          "output_type": "stream",
          "text": [
            "Downloading...\n",
            "From: https://drive.google.com/uc?id=1L_psbKV5cJc06loyHs_Kqv9dyyacrS2H\n",
            "To: /content/umdf_test.zip\n",
            "\r  0% 0.00/904k [00:00<?, ?B/s]\r100% 904k/904k [00:00<00:00, 56.9MB/s]\n"
          ],
          "name": "stdout"
        }
      ]
    },
    {
      "metadata": {
        "id": "8fO5cqqfwuoB",
        "colab_type": "code",
        "colab": {}
      },
      "cell_type": "code",
      "source": [
        "umdf = pd.read_csv('umdf.csv')"
      ],
      "execution_count": 0,
      "outputs": []
    },
    {
      "metadata": {
        "id": "dQM7-qb5w0cK",
        "colab_type": "code",
        "colab": {
          "base_uri": "https://localhost:8080/",
          "height": 263
        },
        "outputId": "13065f43-ef7d-46b8-90c9-255ab28b0d27"
      },
      "cell_type": "code",
      "source": [
        "umdf.head()"
      ],
      "execution_count": 26,
      "outputs": [
        {
          "output_type": "execute_result",
          "data": {
            "text/html": [
              "<div>\n",
              "<style scoped>\n",
              "    .dataframe tbody tr th:only-of-type {\n",
              "        vertical-align: middle;\n",
              "    }\n",
              "\n",
              "    .dataframe tbody tr th {\n",
              "        vertical-align: top;\n",
              "    }\n",
              "\n",
              "    .dataframe thead th {\n",
              "        text-align: right;\n",
              "    }\n",
              "</style>\n",
              "<table border=\"1\" class=\"dataframe\">\n",
              "  <thead>\n",
              "    <tr style=\"text-align: right;\">\n",
              "      <th></th>\n",
              "      <th>Unnamed: 0</th>\n",
              "      <th>SUBJECT_ID</th>\n",
              "      <th>FILE</th>\n",
              "      <th>FD_SCORE</th>\n",
              "      <th>UF_SCORE</th>\n",
              "      <th>FACE_X</th>\n",
              "      <th>FACE_Y</th>\n",
              "      <th>FACE_WIDTH</th>\n",
              "      <th>FACE_HEIGHT</th>\n",
              "      <th>YAW</th>\n",
              "      <th>...</th>\n",
              "      <th>P19Y</th>\n",
              "      <th>VIS19</th>\n",
              "      <th>P20X</th>\n",
              "      <th>P20Y</th>\n",
              "      <th>VIS20</th>\n",
              "      <th>P21X</th>\n",
              "      <th>P21Y</th>\n",
              "      <th>VIS21</th>\n",
              "      <th>PR_MALE</th>\n",
              "      <th>PR_FEMALE</th>\n",
              "    </tr>\n",
              "  </thead>\n",
              "  <tbody>\n",
              "    <tr>\n",
              "      <th>0</th>\n",
              "      <td>51467</td>\n",
              "      <td>2242</td>\n",
              "      <td>lyle_waggoner/lyle_waggoner_0008.jpg</td>\n",
              "      <td>2.40250</td>\n",
              "      <td>0.999697</td>\n",
              "      <td>68.78073</td>\n",
              "      <td>190.8959</td>\n",
              "      <td>212.14284</td>\n",
              "      <td>198.5532</td>\n",
              "      <td>-22.0</td>\n",
              "      <td>...</td>\n",
              "      <td>320.234</td>\n",
              "      <td>1.000370</td>\n",
              "      <td>224.096</td>\n",
              "      <td>316.736</td>\n",
              "      <td>0.833978</td>\n",
              "      <td>190.768</td>\n",
              "      <td>372.903</td>\n",
              "      <td>0.814374</td>\n",
              "      <td>0.768911</td>\n",
              "      <td>0.231089</td>\n",
              "    </tr>\n",
              "    <tr>\n",
              "      <th>1</th>\n",
              "      <td>70325</td>\n",
              "      <td>3104</td>\n",
              "      <td>samantha_bond/samantha_bond_0015.jpg</td>\n",
              "      <td>1.52571</td>\n",
              "      <td>0.999180</td>\n",
              "      <td>131.34070</td>\n",
              "      <td>80.1015</td>\n",
              "      <td>103.67160</td>\n",
              "      <td>94.3500</td>\n",
              "      <td>29.0</td>\n",
              "      <td>...</td>\n",
              "      <td>141.504</td>\n",
              "      <td>0.972514</td>\n",
              "      <td>185.984</td>\n",
              "      <td>137.803</td>\n",
              "      <td>0.967751</td>\n",
              "      <td>174.361</td>\n",
              "      <td>166.589</td>\n",
              "      <td>0.621092</td>\n",
              "      <td>0.312778</td>\n",
              "      <td>0.687222</td>\n",
              "    </tr>\n",
              "    <tr>\n",
              "      <th>2</th>\n",
              "      <td>48542</td>\n",
              "      <td>2115</td>\n",
              "      <td>leonard_cohen/leonard_cohen_0041.jpg</td>\n",
              "      <td>3.56270</td>\n",
              "      <td>0.959984</td>\n",
              "      <td>395.56900</td>\n",
              "      <td>275.1741</td>\n",
              "      <td>412.11600</td>\n",
              "      <td>403.6548</td>\n",
              "      <td>6.0</td>\n",
              "      <td>...</td>\n",
              "      <td>526.097</td>\n",
              "      <td>0.963836</td>\n",
              "      <td>657.843</td>\n",
              "      <td>518.480</td>\n",
              "      <td>0.972425</td>\n",
              "      <td>607.224</td>\n",
              "      <td>645.191</td>\n",
              "      <td>0.405223</td>\n",
              "      <td>0.725186</td>\n",
              "      <td>0.274814</td>\n",
              "    </tr>\n",
              "    <tr>\n",
              "      <th>3</th>\n",
              "      <td>76499</td>\n",
              "      <td>3376</td>\n",
              "      <td>tavi_gevinson/tavi_gevinson_0023.jpg</td>\n",
              "      <td>1.95023</td>\n",
              "      <td>0.990141</td>\n",
              "      <td>194.69230</td>\n",
              "      <td>264.5453</td>\n",
              "      <td>244.01640</td>\n",
              "      <td>221.8164</td>\n",
              "      <td>3.0</td>\n",
              "      <td>...</td>\n",
              "      <td>413.200</td>\n",
              "      <td>0.999826</td>\n",
              "      <td>347.229</td>\n",
              "      <td>410.797</td>\n",
              "      <td>1.014500</td>\n",
              "      <td>313.337</td>\n",
              "      <td>467.877</td>\n",
              "      <td>0.743621</td>\n",
              "      <td>0.227580</td>\n",
              "      <td>0.772420</td>\n",
              "    </tr>\n",
              "    <tr>\n",
              "      <th>4</th>\n",
              "      <td>74242</td>\n",
              "      <td>3269</td>\n",
              "      <td>spencer_boldman/spencer_boldman_0025.jpg</td>\n",
              "      <td>3.03945</td>\n",
              "      <td>0.999929</td>\n",
              "      <td>103.52540</td>\n",
              "      <td>121.6165</td>\n",
              "      <td>227.75520</td>\n",
              "      <td>211.0620</td>\n",
              "      <td>27.0</td>\n",
              "      <td>...</td>\n",
              "      <td>258.364</td>\n",
              "      <td>0.999841</td>\n",
              "      <td>213.756</td>\n",
              "      <td>255.085</td>\n",
              "      <td>1.000970</td>\n",
              "      <td>191.404</td>\n",
              "      <td>315.090</td>\n",
              "      <td>0.809986</td>\n",
              "      <td>0.580592</td>\n",
              "      <td>0.419408</td>\n",
              "    </tr>\n",
              "  </tbody>\n",
              "</table>\n",
              "<p>5 rows × 77 columns</p>\n",
              "</div>"
            ],
            "text/plain": [
              "   Unnamed: 0  SUBJECT_ID                                      FILE  FD_SCORE  \\\n",
              "0       51467        2242      lyle_waggoner/lyle_waggoner_0008.jpg   2.40250   \n",
              "1       70325        3104      samantha_bond/samantha_bond_0015.jpg   1.52571   \n",
              "2       48542        2115      leonard_cohen/leonard_cohen_0041.jpg   3.56270   \n",
              "3       76499        3376      tavi_gevinson/tavi_gevinson_0023.jpg   1.95023   \n",
              "4       74242        3269  spencer_boldman/spencer_boldman_0025.jpg   3.03945   \n",
              "\n",
              "   UF_SCORE     FACE_X    FACE_Y  FACE_WIDTH  FACE_HEIGHT   YAW  ...     P19Y  \\\n",
              "0  0.999697   68.78073  190.8959   212.14284     198.5532 -22.0  ...  320.234   \n",
              "1  0.999180  131.34070   80.1015   103.67160      94.3500  29.0  ...  141.504   \n",
              "2  0.959984  395.56900  275.1741   412.11600     403.6548   6.0  ...  526.097   \n",
              "3  0.990141  194.69230  264.5453   244.01640     221.8164   3.0  ...  413.200   \n",
              "4  0.999929  103.52540  121.6165   227.75520     211.0620  27.0  ...  258.364   \n",
              "\n",
              "      VIS19     P20X     P20Y     VIS20     P21X     P21Y     VIS21   PR_MALE  \\\n",
              "0  1.000370  224.096  316.736  0.833978  190.768  372.903  0.814374  0.768911   \n",
              "1  0.972514  185.984  137.803  0.967751  174.361  166.589  0.621092  0.312778   \n",
              "2  0.963836  657.843  518.480  0.972425  607.224  645.191  0.405223  0.725186   \n",
              "3  0.999826  347.229  410.797  1.014500  313.337  467.877  0.743621  0.227580   \n",
              "4  0.999841  213.756  255.085  1.000970  191.404  315.090  0.809986  0.580592   \n",
              "\n",
              "   PR_FEMALE  \n",
              "0   0.231089  \n",
              "1   0.687222  \n",
              "2   0.274814  \n",
              "3   0.772420  \n",
              "4   0.419408  \n",
              "\n",
              "[5 rows x 77 columns]"
            ]
          },
          "metadata": {
            "tags": []
          },
          "execution_count": 26
        }
      ]
    },
    {
      "metadata": {
        "id": "k2Cqm5hN_YJf",
        "colab_type": "code",
        "colab": {}
      },
      "cell_type": "code",
      "source": [
        "umdf['fullname'] = '/content/umdf/'+umdf['FILE'].str.split('/').str[1]"
      ],
      "execution_count": 0,
      "outputs": []
    },
    {
      "metadata": {
        "id": "3F3nYVeXFNly",
        "colab_type": "code",
        "colab": {}
      },
      "cell_type": "code",
      "source": [
        ""
      ],
      "execution_count": 0,
      "outputs": []
    },
    {
      "metadata": {
        "id": "haFXQ3qvFNjE",
        "colab_type": "code",
        "colab": {}
      },
      "cell_type": "code",
      "source": [
        ""
      ],
      "execution_count": 0,
      "outputs": []
    },
    {
      "metadata": {
        "id": "0GvjM8spFN2V",
        "colab_type": "code",
        "colab": {}
      },
      "cell_type": "code",
      "source": [
        ""
      ],
      "execution_count": 0,
      "outputs": []
    },
    {
      "metadata": {
        "id": "LRIx-UjLBVCb",
        "colab_type": "text"
      },
      "cell_type": "markdown",
      "source": [
        "## Точки"
      ]
    },
    {
      "metadata": {
        "id": "v4egqtHMBjvI",
        "colab_type": "code",
        "colab": {}
      },
      "cell_type": "code",
      "source": [
        "def get_pts(row):\n",
        "    pts = torch.tensor([[row['P8Y'], row['P8X']],\n",
        "                        [row['P11Y'], row['P11X']]])\n",
        "    return pts"
      ],
      "execution_count": 0,
      "outputs": []
    },
    {
      "metadata": {
        "id": "4MtttzRFBk-S",
        "colab_type": "code",
        "colab": {}
      },
      "cell_type": "code",
      "source": [
        "umdf['pts'] = umdf.apply(get_pts,axis=1)"
      ],
      "execution_count": 0,
      "outputs": []
    },
    {
      "metadata": {
        "id": "o-Bgq8CdBcdL",
        "colab_type": "code",
        "colab": {}
      },
      "cell_type": "code",
      "source": [
        "data = (PointsItemList.from_df(tmp, path='/home/ds/DataScience/Datasets/', folder='LISA', cols='image_name')\n",
        "        .random_split_by_pct(0.2, seed=1)\n",
        "        .label_from_df(cols='pts')\n",
        "        .transform(tfms=tfms, tfm_y=True, size=224, resize_method = ResizeMethod.SQUISH)\n",
        "        .databunch(bs=64).normalize(imagenet_stats)\n",
        "       )"
      ],
      "execution_count": 0,
      "outputs": []
    },
    {
      "metadata": {
        "id": "BkiBD7t7BcgJ",
        "colab_type": "code",
        "colab": {}
      },
      "cell_type": "code",
      "source": [
        "arch = models.resnet34\n",
        "learn = create_cnn(data, arch)"
      ],
      "execution_count": 0,
      "outputs": []
    },
    {
      "metadata": {
        "id": "huy0JoxeBcjG",
        "colab_type": "code",
        "colab": {}
      },
      "cell_type": "code",
      "source": [
        "learn.lr_find()\n",
        "learn.recorder.plot()"
      ],
      "execution_count": 0,
      "outputs": []
    },
    {
      "metadata": {
        "id": "IvJlcBr4COiL",
        "colab_type": "code",
        "colab": {}
      },
      "cell_type": "code",
      "source": [
        "learn.fit_one_cycle(1, slice(1e-2))"
      ],
      "execution_count": 0,
      "outputs": []
    },
    {
      "metadata": {
        "id": "TYkDJsBHCT_4",
        "colab_type": "code",
        "colab": {}
      },
      "cell_type": "code",
      "source": [
        "learn.show_results(rows=6)"
      ],
      "execution_count": 0,
      "outputs": []
    },
    {
      "metadata": {
        "id": "FEogc4-FBYHZ",
        "colab_type": "text"
      },
      "cell_type": "markdown",
      "source": [
        "## BBox"
      ]
    },
    {
      "metadata": {
        "id": "EjyZUfao9wNE",
        "colab_type": "code",
        "colab": {}
      },
      "cell_type": "code",
      "source": [
        "umdf['BB_X1'] = umdf['FACE_X'] \n",
        "umdf['BB_Y1'] = umdf['FACE_Y'] \n",
        "umdf['BB_X2'] = umdf['FACE_X'] + umdf['FACE_WIDTH']\n",
        "umdf['BB_Y2'] = umdf['FACE_Y'] + umdf['FACE_HEIGHT']"
      ],
      "execution_count": 0,
      "outputs": []
    },
    {
      "metadata": {
        "id": "LYY9Lm6h96f5",
        "colab_type": "code",
        "colab": {}
      },
      "cell_type": "code",
      "source": [
        "bb_dict = {a: [[b],['face']] for a, b in zip(umdf['fullname'].values, \n",
        "                                           umdf[['BB_Y1','BB_X1','BB_Y2','BB_X2']].values)}"
      ],
      "execution_count": 0,
      "outputs": []
    },
    {
      "metadata": {
        "id": "BpNQcfgl96dB",
        "colab_type": "code",
        "colab": {}
      },
      "cell_type": "code",
      "source": [
        "class StubbedObjectCategoryList(ObjectCategoryList):\n",
        "    def analyze_pred(self, pred): return [pred.unsqueeze(0), torch.ones(1).long()]"
      ],
      "execution_count": 0,
      "outputs": []
    },
    {
      "metadata": {
        "id": "mSOLre8l_IsD",
        "colab_type": "code",
        "colab": {}
      },
      "cell_type": "code",
      "source": [
        "data = (ObjectItemList.from_df(umdf_raw, path='/home/ds/DataScience/Datasets/', folder='LISA', cols='image_name')\n",
        "        .split_by_rand_pct(0.2, seed=1)                         \n",
        "        .label_from_func(get_y_func, label_cls=StubbedObjectCategoryList)\n",
        "        .transform(get_transforms(), tfm_y=True, size=224, resize_method=ResizeMethod.SQUISH)\n",
        "        .databunch(bs=64, collate_fn=bb_pad_collate)\n",
        "        .normalize(imagenet_stats))"
      ],
      "execution_count": 0,
      "outputs": []
    },
    {
      "metadata": {
        "id": "f3KknDhjA2UD",
        "colab_type": "code",
        "colab": {}
      },
      "cell_type": "code",
      "source": [
        "class FaceDetector(nn.Module):\n",
        "    def __init__(self, arch=models.resnet18):\n",
        "        super().__init__() \n",
        "        self.cnn = create_body(arch)\n",
        "        self.head = create_head(num_features_model(self.cnn) * 2, 4)\n",
        "        \n",
        "    def forward(self, im):\n",
        "        x = self.cnn(im)\n",
        "        x = self.head(x)\n",
        "        return 2 * (x.sigmoid_() - 0.5)"
      ],
      "execution_count": 0,
      "outputs": []
    },
    {
      "metadata": {
        "id": "4e6CxZRHA5Lx",
        "colab_type": "code",
        "colab": {}
      },
      "cell_type": "code",
      "source": [
        "def loss_fn(preds, targs, class_idxs):\n",
        "    return L1Loss()(preds, targs.squeeze())"
      ],
      "execution_count": 0,
      "outputs": []
    },
    {
      "metadata": {
        "id": "b5LzfgkZA86Z",
        "colab_type": "code",
        "colab": {}
      },
      "cell_type": "code",
      "source": [
        "learn = Learner(data, FaceDetector(arch=models.resnet34), loss_func=loss_fn)"
      ],
      "execution_count": 0,
      "outputs": []
    },
    {
      "metadata": {
        "id": "Ze2sS_nBA_lR",
        "colab_type": "code",
        "colab": {}
      },
      "cell_type": "code",
      "source": [
        "learn.lr_find()"
      ],
      "execution_count": 0,
      "outputs": []
    },
    {
      "metadata": {
        "id": "mRySdFN-BAGS",
        "colab_type": "code",
        "colab": {}
      },
      "cell_type": "code",
      "source": [
        "learn.recorder.plot()"
      ],
      "execution_count": 0,
      "outputs": []
    },
    {
      "metadata": {
        "id": "LnB1AjTmBHHj",
        "colab_type": "code",
        "colab": {}
      },
      "cell_type": "code",
      "source": [
        "learn.fit_one_cycle(1, slice(1e-2))"
      ],
      "execution_count": 0,
      "outputs": []
    },
    {
      "metadata": {
        "id": "7VUZ7WdvBJug",
        "colab_type": "code",
        "colab": {}
      },
      "cell_type": "code",
      "source": [
        "learn.show_results(rows=6)"
      ],
      "execution_count": 0,
      "outputs": []
    }
  ]
}